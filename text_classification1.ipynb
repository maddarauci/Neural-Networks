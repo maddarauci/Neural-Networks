{
  "nbformat": 4,
  "nbformat_minor": 0,
  "metadata": {
    "colab": {
      "name": "text-classification1.ipynb",
      "provenance": [],
      "authorship_tag": "ABX9TyM0mzAFVdHHqjS8Ixtbr7e7",
      "include_colab_link": true
    },
    "kernelspec": {
      "name": "python3",
      "display_name": "Python 3"
    }
  },
  "cells": [
    {
      "cell_type": "markdown",
      "metadata": {
        "id": "view-in-github",
        "colab_type": "text"
      },
      "source": [
        "<a href=\"https://colab.research.google.com/github/maddarauci/Neural-Networks/blob/main/text_classification1.ipynb\" target=\"_parent\"><img src=\"https://colab.research.google.com/assets/colab-badge.svg\" alt=\"Open In Colab\"/></a>"
      ]
    },
    {
      "cell_type": "code",
      "metadata": {
        "colab": {
          "base_uri": "https://localhost:8080/"
        },
        "id": "snKYoeKr7jpW",
        "outputId": "b9a70f8e-3c25-4c44-81ba-6fd98f323ade"
      },
      "source": [
        "# text classification \r\n",
        "# we will use a neural network to classify movie reviews  as either positve or negative \r\n",
        "#%numpy_version 1.16.1 # i cant figure out how to use certain version of numpy \r\n",
        "\r\n",
        "import numpy as np \r\n",
        "import tensorflow as tf \r\n",
        "from tensorflow import keras \r\n",
        "\r\n",
        "# loading the data \r\n",
        "'''\r\n",
        "the dataset is the imdb movie dataset from keras.\r\n",
        "'''\r\n",
        "imdb = keras.datasets.imdb \r\n",
        "\r\n",
        "(train_data, train_labels), (test_data, test_labels) = imdb.load_data(num_words=10000)\r\n",
        "\r\n",
        "# turning the integer encoded data to string for readablity \r\n",
        "# a dictionary mapping words to an integer index\r\n",
        "_words_index = imdb.get_word_index()\r\n",
        "\r\n",
        "word_index = {k:(v+3) for k, v in _words_index.items()}\r\n",
        "word_index[\"<PAD>\"] = 0\r\n",
        "word_index[\"<START>\"] = 1\r\n",
        "word_index[\"<UNK>\"] = 2 # unknown \r\n",
        "word_index[\"<UNUSED>\"] = 3\r\n",
        "\r\n",
        "reverse_word_index = dict([(value, key) for (key, value) in word_index.items()])\r\n",
        "\r\n",
        "def decode_review(text):\r\n",
        "  return \" \".join([revers_word_index.get(i, \"?\") for i in text])\r\n",
        "  # this function returns the decoded human readable view \r\n",
        "\r\n",
        "\r\n",
        "print('\\nall good')\r\n"
      ],
      "execution_count": 12,
      "outputs": [
        {
          "output_type": "stream",
          "text": [
            "<string>:6: VisibleDeprecationWarning: Creating an ndarray from ragged nested sequences (which is a list-or-tuple of lists-or-tuples-or ndarrays with different lengths or shapes) is deprecated. If you meant to do this, you must specify 'dtype=object' when creating the ndarray\n",
            "/usr/local/lib/python3.7/dist-packages/tensorflow/python/keras/datasets/imdb.py:159: VisibleDeprecationWarning: Creating an ndarray from ragged nested sequences (which is a list-or-tuple of lists-or-tuples-or ndarrays with different lengths or shapes) is deprecated. If you meant to do this, you must specify 'dtype=object' when creating the ndarray\n",
            "  x_train, y_train = np.array(xs[:idx]), np.array(labels[:idx])\n"
          ],
          "name": "stderr"
        },
        {
          "output_type": "stream",
          "text": [
            "\n",
            "all good\n"
          ],
          "name": "stdout"
        },
        {
          "output_type": "stream",
          "text": [
            "/usr/local/lib/python3.7/dist-packages/tensorflow/python/keras/datasets/imdb.py:160: VisibleDeprecationWarning: Creating an ndarray from ragged nested sequences (which is a list-or-tuple of lists-or-tuples-or ndarrays with different lengths or shapes) is deprecated. If you meant to do this, you must specify 'dtype=object' when creating the ndarray\n",
            "  x_test, y_test = np.array(xs[idx:]), np.array(labels[idx:])\n"
          ],
          "name": "stderr"
        }
      ]
    }
  ]
}